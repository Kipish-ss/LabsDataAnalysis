{
 "cells": [
  {
   "cell_type": "code",
   "execution_count": 1,
   "metadata": {
    "collapsed": true,
    "ExecuteTime": {
     "end_time": "2023-08-09T11:29:27.829355Z",
     "start_time": "2023-08-09T11:29:27.031354Z"
    }
   },
   "outputs": [
    {
     "name": "stderr",
     "output_type": "stream",
     "text": [
      "[nltk_data] Downloading package stopwords to /Users/kyryl/nltk_data...\n",
      "[nltk_data]   Package stopwords is already up-to-date!\n",
      "[nltk_data] Downloading package punkt to /Users/kyryl/nltk_data...\n",
      "[nltk_data]   Package punkt is already up-to-date!\n",
      "[nltk_data] Downloading package wordnet to /Users/kyryl/nltk_data...\n",
      "[nltk_data]   Package wordnet is already up-to-date!\n",
      "[nltk_data] Downloading package averaged_perceptron_tagger to\n",
      "[nltk_data]     /Users/kyryl/nltk_data...\n",
      "[nltk_data]   Package averaged_perceptron_tagger is already up-to-\n",
      "[nltk_data]       date!\n"
     ]
    },
    {
     "data": {
      "text/plain": "True"
     },
     "execution_count": 1,
     "metadata": {},
     "output_type": "execute_result"
    }
   ],
   "source": [
    "import pandas as pd\n",
    "import matplotlib.pyplot as plt\n",
    "from nltk.tokenize import word_tokenize\n",
    "from nltk.corpus import stopwords\n",
    "import nltk\n",
    "import re\n",
    "import json\n",
    "import string\n",
    "from sklearn.feature_extraction.text import CountVectorizer\n",
    "from sklearn.feature_extraction.text import TfidfVectorizer\n",
    "from langdetect import detect\n",
    "import numpy as np\n",
    "from pymorphy2 import MorphAnalyzer\n",
    "from nltk.stem import WordNetLemmatizer\n",
    "from functools import reduce\n",
    "import pickle\n",
    "\n",
    "nltk.download('stopwords')\n",
    "nltk.download('punkt')\n",
    "nltk.download('wordnet')\n",
    "nltk.download('averaged_perceptron_tagger')"
   ]
  },
  {
   "cell_type": "code",
   "execution_count": 2,
   "outputs": [
    {
     "data": {
      "text/plain": "                                            raw_text\n0            Какие предсказания пацаны ,будем анимэ?\n1  ⚡️Международный аэропорт Харькова закрыт на пр...\n2  Жить будем пацаны ,устроим встречу подписчиков...\n3  https://t.me/joinchat/Uxs7-tq2uRtIzthH\\n\\nССЫЛ...\n4  ⚡️Владимир Зеленский заявил о поставке Францие...\n5  ⚡️Пацаны не надейтесь ни на кого кроме своих б...\n6  ❗️\"Сегодня я инициировал телефонный звонок с п...\n7  Кива, который сейчас загорает в Испании попрос...\n8  ❗️Украина полностью отключилась от российских ...\n9  ❗️Россия закрывает несколько участков воздушно...",
      "text/html": "<div>\n<style scoped>\n    .dataframe tbody tr th:only-of-type {\n        vertical-align: middle;\n    }\n\n    .dataframe tbody tr th {\n        vertical-align: top;\n    }\n\n    .dataframe thead th {\n        text-align: right;\n    }\n</style>\n<table border=\"1\" class=\"dataframe\">\n  <thead>\n    <tr style=\"text-align: right;\">\n      <th></th>\n      <th>raw_text</th>\n    </tr>\n  </thead>\n  <tbody>\n    <tr>\n      <th>0</th>\n      <td>Какие предсказания пацаны ,будем анимэ?</td>\n    </tr>\n    <tr>\n      <th>1</th>\n      <td>⚡️Международный аэропорт Харькова закрыт на пр...</td>\n    </tr>\n    <tr>\n      <th>2</th>\n      <td>Жить будем пацаны ,устроим встречу подписчиков...</td>\n    </tr>\n    <tr>\n      <th>3</th>\n      <td>https://t.me/joinchat/Uxs7-tq2uRtIzthH\\n\\nССЫЛ...</td>\n    </tr>\n    <tr>\n      <th>4</th>\n      <td>⚡️Владимир Зеленский заявил о поставке Францие...</td>\n    </tr>\n    <tr>\n      <th>5</th>\n      <td>⚡️Пацаны не надейтесь ни на кого кроме своих б...</td>\n    </tr>\n    <tr>\n      <th>6</th>\n      <td>❗️\"Сегодня я инициировал телефонный звонок с п...</td>\n    </tr>\n    <tr>\n      <th>7</th>\n      <td>Кива, который сейчас загорает в Испании попрос...</td>\n    </tr>\n    <tr>\n      <th>8</th>\n      <td>❗️Украина полностью отключилась от российских ...</td>\n    </tr>\n    <tr>\n      <th>9</th>\n      <td>❗️Россия закрывает несколько участков воздушно...</td>\n    </tr>\n  </tbody>\n</table>\n</div>"
     },
     "execution_count": 2,
     "metadata": {},
     "output_type": "execute_result"
    }
   ],
   "source": [
    "with open('../data/ragnarock.json', encoding='utf-8', errors='ignore') as json_file:\n",
    "    json_data = json.load(json_file)\n",
    "json_messages = json_data['messages']\n",
    "messages = []\n",
    "for message in json_messages[:1000]:\n",
    "    text = message['text']\n",
    "    string_list = []\n",
    "    for entity in text:\n",
    "        if isinstance(entity, str):\n",
    "            string_list.append(entity)\n",
    "        elif isinstance(entity, dict):\n",
    "            string_list.append(entity['text'])\n",
    "    string_list = [s for s in string_list if s]\n",
    "    if string_list:\n",
    "        messages.append(''.join(string_list))\n",
    "\n",
    "messages_df = pd.DataFrame({'raw_text': messages})\n",
    "messages_df.head(10)"
   ],
   "metadata": {
    "collapsed": false,
    "ExecuteTime": {
     "end_time": "2023-08-09T11:29:28.255106Z",
     "start_time": "2023-08-09T11:29:27.830409Z"
    }
   }
  },
  {
   "cell_type": "code",
   "execution_count": 3,
   "outputs": [],
   "source": [
    "morph_ru = MorphAnalyzer(lang='ru')\n",
    "morph_uk = MorphAnalyzer(lang='uk')\n",
    "lemmatizer_en = WordNetLemmatizer()\n",
    "\n",
    "\n",
    "def remove_url(text):\n",
    "    return re.sub(r\"http\\S+\", \"\", text)\n",
    "\n",
    "\n",
    "def remove_punctuation(text):\n",
    "    text = text.translate(str.maketrans('', '', string.punctuation + '«»—–-’'))\n",
    "    return text.replace('\\n', ' ').replace('\\u200b', '')\n",
    "\n",
    "\n",
    "def remove_emoji(text):\n",
    "    emoji_pattern = re.compile(\"[\"\n",
    "                               u\"\\U0001F600-\\U0001F64F\"  # emoticons\n",
    "                               u\"\\U0001F300-\\U0001F5FF\"  # symbols & pictographs\n",
    "                               u\"\\U0001F680-\\U0001F6FF\"  # transport & map symbols\n",
    "                               u\"\\U0001F1E0-\\U0001F1FF\"  # flags (iOS)\n",
    "                               u\"\\U00002702-\\U000027B0\"\n",
    "                               u\"\\U000024C2-\\U0001F251\"\n",
    "                               u\"\\u203C\"\n",
    "                               \"]+\", flags=re.UNICODE)\n",
    "    return emoji_pattern.sub(r'', text)\n",
    "\n",
    "\n",
    "def tokenize_text(text):\n",
    "    if not text:\n",
    "        return text\n",
    "    detected_language = detect(text)\n",
    "    language = 'english' if detected_language == 'en' else 'russian'\n",
    "    words = word_tokenize(text, language=language)\n",
    "    if detected_language == 'uk':\n",
    "        return [morph_uk.parse(word)[0].normal_form for word in words]\n",
    "    elif detected_language == 'en':\n",
    "        return [lemmatizer_en.lemmatize(word) for word in words]\n",
    "    else:\n",
    "        return [morph_ru.parse(word)[0].normal_form for word in words]\n",
    "\n",
    "\n",
    "with open('../data/stopwords_ua.txt') as file:\n",
    "    ukrainian_stopwords = file.read().splitlines()\n",
    "\n",
    "stop_words = set(stopwords.words('english') + stopwords.words('russian') + ukrainian_stopwords)\n",
    "\n",
    "\n",
    "def remove_stopwords(words):\n",
    "    return [word for word in words if word not in stop_words]"
   ],
   "metadata": {
    "collapsed": false,
    "ExecuteTime": {
     "end_time": "2023-08-09T11:30:12.191479Z",
     "start_time": "2023-08-09T11:30:12.021067Z"
    }
   }
  },
  {
   "cell_type": "code",
   "execution_count": 4,
   "outputs": [],
   "source": [
    "def transform_text(text):\n",
    "    return reduce(lambda text, function: function(text),\n",
    "                  [remove_url, remove_punctuation, remove_emoji, tokenize_text, remove_stopwords], text)"
   ],
   "metadata": {
    "collapsed": false,
    "ExecuteTime": {
     "end_time": "2023-08-09T11:30:12.863739Z",
     "start_time": "2023-08-09T11:30:12.861171Z"
    }
   }
  },
  {
   "cell_type": "code",
   "execution_count": 5,
   "outputs": [
    {
     "data": {
      "text/plain": "                                            raw_text  \\\n0            Какие предсказания пацаны ,будем анимэ?   \n1  ⚡️Международный аэропорт Харькова закрыт на пр...   \n2  Жить будем пацаны ,устроим встречу подписчиков...   \n3  https://t.me/joinchat/Uxs7-tq2uRtIzthH\\n\\nССЫЛ...   \n4  ⚡️Владимир Зеленский заявил о поставке Францие...   \n5  ⚡️Пацаны не надейтесь ни на кого кроме своих б...   \n6  ❗️\"Сегодня я инициировал телефонный звонок с п...   \n7  Кива, который сейчас загорает в Испании попрос...   \n8  ❗️Украина полностью отключилась от российских ...   \n9  ❗️Россия закрывает несколько участков воздушно...   \n\n                                               words  \n0                       [предсказание, пацан, анимэ]  \n1  [международный, аэропорт, харьков, закрытый, п...  \n2  [жить, пацан, устроить, встреча, подписчик, до...  \n3  [ссылка, телеграм, ragnarock, privet, пригласи...  \n4  [владимир, зеленский, заявить, поставка, франц...  \n5  [пацан, надеяться, кроме, свой, близкий, сооте...  \n6  [сегодня, инициировать, телефонный, звонок, пр...  \n7  [кива, который, загорать, испания, попросить, ...  \n8  [украина, полностью, отключиться, российский, ...  \n9  [россия, закрывать, несколько, участок, воздуш...  ",
      "text/html": "<div>\n<style scoped>\n    .dataframe tbody tr th:only-of-type {\n        vertical-align: middle;\n    }\n\n    .dataframe tbody tr th {\n        vertical-align: top;\n    }\n\n    .dataframe thead th {\n        text-align: right;\n    }\n</style>\n<table border=\"1\" class=\"dataframe\">\n  <thead>\n    <tr style=\"text-align: right;\">\n      <th></th>\n      <th>raw_text</th>\n      <th>words</th>\n    </tr>\n  </thead>\n  <tbody>\n    <tr>\n      <th>0</th>\n      <td>Какие предсказания пацаны ,будем анимэ?</td>\n      <td>[предсказание, пацан, анимэ]</td>\n    </tr>\n    <tr>\n      <th>1</th>\n      <td>⚡️Международный аэропорт Харькова закрыт на пр...</td>\n      <td>[международный, аэропорт, харьков, закрытый, п...</td>\n    </tr>\n    <tr>\n      <th>2</th>\n      <td>Жить будем пацаны ,устроим встречу подписчиков...</td>\n      <td>[жить, пацан, устроить, встреча, подписчик, до...</td>\n    </tr>\n    <tr>\n      <th>3</th>\n      <td>https://t.me/joinchat/Uxs7-tq2uRtIzthH\\n\\nССЫЛ...</td>\n      <td>[ссылка, телеграм, ragnarock, privet, пригласи...</td>\n    </tr>\n    <tr>\n      <th>4</th>\n      <td>⚡️Владимир Зеленский заявил о поставке Францие...</td>\n      <td>[владимир, зеленский, заявить, поставка, франц...</td>\n    </tr>\n    <tr>\n      <th>5</th>\n      <td>⚡️Пацаны не надейтесь ни на кого кроме своих б...</td>\n      <td>[пацан, надеяться, кроме, свой, близкий, сооте...</td>\n    </tr>\n    <tr>\n      <th>6</th>\n      <td>❗️\"Сегодня я инициировал телефонный звонок с п...</td>\n      <td>[сегодня, инициировать, телефонный, звонок, пр...</td>\n    </tr>\n    <tr>\n      <th>7</th>\n      <td>Кива, который сейчас загорает в Испании попрос...</td>\n      <td>[кива, который, загорать, испания, попросить, ...</td>\n    </tr>\n    <tr>\n      <th>8</th>\n      <td>❗️Украина полностью отключилась от российских ...</td>\n      <td>[украина, полностью, отключиться, российский, ...</td>\n    </tr>\n    <tr>\n      <th>9</th>\n      <td>❗️Россия закрывает несколько участков воздушно...</td>\n      <td>[россия, закрывать, несколько, участок, воздуш...</td>\n    </tr>\n  </tbody>\n</table>\n</div>"
     },
     "execution_count": 5,
     "metadata": {},
     "output_type": "execute_result"
    }
   ],
   "source": [
    "messages_df['words'] = messages_df['raw_text'].apply(transform_text)\n",
    "messages_df.head(10)"
   ],
   "metadata": {
    "collapsed": false,
    "ExecuteTime": {
     "end_time": "2023-08-09T11:30:17.476569Z",
     "start_time": "2023-08-09T11:30:13.683353Z"
    }
   }
  },
  {
   "cell_type": "code",
   "execution_count": 6,
   "outputs": [
    {
     "data": {
      "text/plain": "украина       174\nроссийский    112\nканал          93\nкиев           86\nэто            80\ndtype: int64"
     },
     "execution_count": 6,
     "metadata": {},
     "output_type": "execute_result"
    }
   ],
   "source": [
    "words = pd.Series(np.concatenate(messages_df['words']))\n",
    "words_count = words.value_counts()\n",
    "words_count.head()"
   ],
   "metadata": {
    "collapsed": false,
    "ExecuteTime": {
     "start_time": "2023-06-02T01:20:32.412685Z",
     "end_time": "2023-06-02T01:20:32.418809Z"
    }
   }
  },
  {
   "cell_type": "code",
   "execution_count": 7,
   "outputs": [
    {
     "data": {
      "text/plain": "<Figure size 1200x1000 with 1 Axes>",
      "image/png": "[encoded data removed]"
     },
     "metadata": {},
     "output_type": "display_data"
    }
   ],
   "source": [
    "plt.figure(figsize=(12, 10))\n",
    "words_count.head(20).plot.barh()\n",
    "plt.gca().invert_yaxis();"
   ],
   "metadata": {
    "collapsed": false,
    "ExecuteTime": {
     "start_time": "2023-06-02T01:20:32.419873Z",
     "end_time": "2023-06-02T01:20:32.548382Z"
    }
   }
  },
  {
   "cell_type": "code",
   "execution_count": 8,
   "outputs": [],
   "source": [
    "extra_stopwords = {'это', 'подписаться', 'всё'}"
   ],
   "metadata": {
    "collapsed": false,
    "ExecuteTime": {
     "start_time": "2023-06-02T01:20:32.547710Z",
     "end_time": "2023-06-02T01:20:32.551048Z"
    }
   }
  },
  {
   "cell_type": "code",
   "execution_count": 9,
   "outputs": [
    {
     "data": {
      "text/plain": "                                            raw_text  \\\n0            Какие предсказания пацаны ,будем анимэ?   \n1  ⚡️Международный аэропорт Харькова закрыт на пр...   \n2  Жить будем пацаны ,устроим встречу подписчиков...   \n3  https://t.me/joinchat/Uxs7-tq2uRtIzthH\\n\\nССЫЛ...   \n4  ⚡️Владимир Зеленский заявил о поставке Францие...   \n\n                                               words  \n0                       [предсказание, пацан, анимэ]  \n1  [международный, аэропорт, харьков, закрытый, п...  \n2  [жить, пацан, устроить, встреча, подписчик, до...  \n3  [ссылка, телеграм, ragnarock, privet, пригласи...  \n4  [владимир, зеленский, заявить, поставка, франц...  ",
      "text/html": "<div>\n<style scoped>\n    .dataframe tbody tr th:only-of-type {\n        vertical-align: middle;\n    }\n\n    .dataframe tbody tr th {\n        vertical-align: top;\n    }\n\n    .dataframe thead th {\n        text-align: right;\n    }\n</style>\n<table border=\"1\" class=\"dataframe\">\n  <thead>\n    <tr style=\"text-align: right;\">\n      <th></th>\n      <th>raw_text</th>\n      <th>words</th>\n    </tr>\n  </thead>\n  <tbody>\n    <tr>\n      <th>0</th>\n      <td>Какие предсказания пацаны ,будем анимэ?</td>\n      <td>[предсказание, пацан, анимэ]</td>\n    </tr>\n    <tr>\n      <th>1</th>\n      <td>⚡️Международный аэропорт Харькова закрыт на пр...</td>\n      <td>[международный, аэропорт, харьков, закрытый, п...</td>\n    </tr>\n    <tr>\n      <th>2</th>\n      <td>Жить будем пацаны ,устроим встречу подписчиков...</td>\n      <td>[жить, пацан, устроить, встреча, подписчик, до...</td>\n    </tr>\n    <tr>\n      <th>3</th>\n      <td>https://t.me/joinchat/Uxs7-tq2uRtIzthH\\n\\nССЫЛ...</td>\n      <td>[ссылка, телеграм, ragnarock, privet, пригласи...</td>\n    </tr>\n    <tr>\n      <th>4</th>\n      <td>⚡️Владимир Зеленский заявил о поставке Францие...</td>\n      <td>[владимир, зеленский, заявить, поставка, франц...</td>\n    </tr>\n  </tbody>\n</table>\n</div>"
     },
     "execution_count": 9,
     "metadata": {},
     "output_type": "execute_result"
    }
   ],
   "source": [
    "messages_df['words'] = messages_df['words'].apply(lambda words: [word for word in words if word not in extra_stopwords])\n",
    "messages_df.head()"
   ],
   "metadata": {
    "collapsed": false,
    "ExecuteTime": {
     "start_time": "2023-06-02T01:20:32.555667Z",
     "end_time": "2023-06-02T01:20:32.558052Z"
    }
   }
  },
  {
   "cell_type": "code",
   "execution_count": 10,
   "outputs": [
    {
     "data": {
      "text/plain": "                                            raw_text  \\\n0            Какие предсказания пацаны ,будем анимэ?   \n1  ⚡️Международный аэропорт Харькова закрыт на пр...   \n2  Жить будем пацаны ,устроим встречу подписчиков...   \n3  https://t.me/joinchat/Uxs7-tq2uRtIzthH\\n\\nССЫЛ...   \n4  ⚡️Владимир Зеленский заявил о поставке Францие...   \n\n                                               words  \\\n0                       [предсказание, пацан, анимэ]   \n1  [международный, аэропорт, харьков, закрытый, п...   \n2  [жить, пацан, устроить, встреча, подписчик, до...   \n3  [ссылка, телеграм, ragnarock, privet, пригласи...   \n4  [владимир, зеленский, заявить, поставка, франц...   \n\n                                     normalized_text  \n0                           предсказание пацан анимэ  \n1  международный аэропорт харьков закрытый приём ...  \n2  жить пацан устроить встреча подписчик донбассе...  \n3   ссылка телеграм ragnarock privet пригласить друг  \n4  владимир зеленский заявить поставка франция ср...  ",
      "text/html": "<div>\n<style scoped>\n    .dataframe tbody tr th:only-of-type {\n        vertical-align: middle;\n    }\n\n    .dataframe tbody tr th {\n        vertical-align: top;\n    }\n\n    .dataframe thead th {\n        text-align: right;\n    }\n</style>\n<table border=\"1\" class=\"dataframe\">\n  <thead>\n    <tr style=\"text-align: right;\">\n      <th></th>\n      <th>raw_text</th>\n      <th>words</th>\n      <th>normalized_text</th>\n    </tr>\n  </thead>\n  <tbody>\n    <tr>\n      <th>0</th>\n      <td>Какие предсказания пацаны ,будем анимэ?</td>\n      <td>[предсказание, пацан, анимэ]</td>\n      <td>предсказание пацан анимэ</td>\n    </tr>\n    <tr>\n      <th>1</th>\n      <td>⚡️Международный аэропорт Харькова закрыт на пр...</td>\n      <td>[международный, аэропорт, харьков, закрытый, п...</td>\n      <td>международный аэропорт харьков закрытый приём ...</td>\n    </tr>\n    <tr>\n      <th>2</th>\n      <td>Жить будем пацаны ,устроим встречу подписчиков...</td>\n      <td>[жить, пацан, устроить, встреча, подписчик, до...</td>\n      <td>жить пацан устроить встреча подписчик донбассе...</td>\n    </tr>\n    <tr>\n      <th>3</th>\n      <td>https://t.me/joinchat/Uxs7-tq2uRtIzthH\\n\\nССЫЛ...</td>\n      <td>[ссылка, телеграм, ragnarock, privet, пригласи...</td>\n      <td>ссылка телеграм ragnarock privet пригласить друг</td>\n    </tr>\n    <tr>\n      <th>4</th>\n      <td>⚡️Владимир Зеленский заявил о поставке Францие...</td>\n      <td>[владимир, зеленский, заявить, поставка, франц...</td>\n      <td>владимир зеленский заявить поставка франция ср...</td>\n    </tr>\n  </tbody>\n</table>\n</div>"
     },
     "execution_count": 10,
     "metadata": {},
     "output_type": "execute_result"
    }
   ],
   "source": [
    "messages_df['normalized_text'] = messages_df['words'].str.join(' ')\n",
    "messages_df.head()"
   ],
   "metadata": {
    "collapsed": false,
    "ExecuteTime": {
     "start_time": "2023-06-02T01:20:32.562927Z",
     "end_time": "2023-06-02T01:20:32.565264Z"
    }
   }
  },
  {
   "cell_type": "code",
   "execution_count": 11,
   "outputs": [
    {
     "data": {
      "text/plain": "   000  0139  015  0185  020  025  031  04  050  055  ...  ім  ін  інструкція  \\\n0    0     0    0     0    0    0    0   0    0    0  ...   0   0           0   \n1    0     0    0     0    0    0    0   0    0    0  ...   0   0           0   \n2    0     0    0     0    0    0    0   0    0    0  ...   0   0           0   \n3    0     0    0     0    0    0    0   0    0    0  ...   0   0           0   \n4    0     0    0     0    0    0    0   0    0    0  ...   0   0           0   \n\n   інф  інформаційний  інформація  інфраструктура  їжувід  їми  їсти  \n0    0              0           0               0       0    0     0  \n1    0              0           0               0       0    0     0  \n2    0              0           0               0       0    0     0  \n3    0              0           0               0       0    0     0  \n4    0              0           0               0       0    0     0  \n\n[5 rows x 4298 columns]",
      "text/html": "<div>\n<style scoped>\n    .dataframe tbody tr th:only-of-type {\n        vertical-align: middle;\n    }\n\n    .dataframe tbody tr th {\n        vertical-align: top;\n    }\n\n    .dataframe thead th {\n        text-align: right;\n    }\n</style>\n<table border=\"1\" class=\"dataframe\">\n  <thead>\n    <tr style=\"text-align: right;\">\n      <th></th>\n      <th>000</th>\n      <th>0139</th>\n      <th>015</th>\n      <th>0185</th>\n      <th>020</th>\n      <th>025</th>\n      <th>031</th>\n      <th>04</th>\n      <th>050</th>\n      <th>055</th>\n      <th>...</th>\n      <th>ім</th>\n      <th>ін</th>\n      <th>інструкція</th>\n      <th>інф</th>\n      <th>інформаційний</th>\n      <th>інформація</th>\n      <th>інфраструктура</th>\n      <th>їжувід</th>\n      <th>їми</th>\n      <th>їсти</th>\n    </tr>\n  </thead>\n  <tbody>\n    <tr>\n      <th>0</th>\n      <td>0</td>\n      <td>0</td>\n      <td>0</td>\n      <td>0</td>\n      <td>0</td>\n      <td>0</td>\n      <td>0</td>\n      <td>0</td>\n      <td>0</td>\n      <td>0</td>\n      <td>...</td>\n      <td>0</td>\n      <td>0</td>\n      <td>0</td>\n      <td>0</td>\n      <td>0</td>\n      <td>0</td>\n      <td>0</td>\n      <td>0</td>\n      <td>0</td>\n      <td>0</td>\n    </tr>\n    <tr>\n      <th>1</th>\n      <td>0</td>\n      <td>0</td>\n      <td>0</td>\n      <td>0</td>\n      <td>0</td>\n      <td>0</td>\n      <td>0</td>\n      <td>0</td>\n      <td>0</td>\n      <td>0</td>\n      <td>...</td>\n      <td>0</td>\n      <td>0</td>\n      <td>0</td>\n      <td>0</td>\n      <td>0</td>\n      <td>0</td>\n      <td>0</td>\n      <td>0</td>\n      <td>0</td>\n      <td>0</td>\n    </tr>\n    <tr>\n      <th>2</th>\n      <td>0</td>\n      <td>0</td>\n      <td>0</td>\n      <td>0</td>\n      <td>0</td>\n      <td>0</td>\n      <td>0</td>\n      <td>0</td>\n      <td>0</td>\n      <td>0</td>\n      <td>...</td>\n      <td>0</td>\n      <td>0</td>\n      <td>0</td>\n      <td>0</td>\n      <td>0</td>\n      <td>0</td>\n      <td>0</td>\n      <td>0</td>\n      <td>0</td>\n      <td>0</td>\n    </tr>\n    <tr>\n      <th>3</th>\n      <td>0</td>\n      <td>0</td>\n      <td>0</td>\n      <td>0</td>\n      <td>0</td>\n      <td>0</td>\n      <td>0</td>\n      <td>0</td>\n      <td>0</td>\n      <td>0</td>\n      <td>...</td>\n      <td>0</td>\n      <td>0</td>\n      <td>0</td>\n      <td>0</td>\n      <td>0</td>\n      <td>0</td>\n      <td>0</td>\n      <td>0</td>\n      <td>0</td>\n      <td>0</td>\n    </tr>\n    <tr>\n      <th>4</th>\n      <td>0</td>\n      <td>0</td>\n      <td>0</td>\n      <td>0</td>\n      <td>0</td>\n      <td>0</td>\n      <td>0</td>\n      <td>0</td>\n      <td>0</td>\n      <td>0</td>\n      <td>...</td>\n      <td>0</td>\n      <td>0</td>\n      <td>0</td>\n      <td>0</td>\n      <td>0</td>\n      <td>0</td>\n      <td>0</td>\n      <td>0</td>\n      <td>0</td>\n      <td>0</td>\n    </tr>\n  </tbody>\n</table>\n<p>5 rows × 4298 columns</p>\n</div>"
     },
     "execution_count": 11,
     "metadata": {},
     "output_type": "execute_result"
    }
   ],
   "source": [
    "cv = CountVectorizer()\n",
    "bag_of_words = cv.fit_transform(messages_df['normalized_text'])\n",
    "bag_of_words = pd.DataFrame(bag_of_words.toarray(), columns=cv.get_feature_names_out())\n",
    "bag_of_words.head()"
   ],
   "metadata": {
    "collapsed": false,
    "ExecuteTime": {
     "start_time": "2023-06-02T01:20:32.573091Z",
     "end_time": "2023-06-02T01:20:32.601347Z"
    }
   }
  },
  {
   "cell_type": "code",
   "execution_count": 12,
   "outputs": [],
   "source": [
    "with open('../data/bag_of_words_matrix.pkl', 'wb') as file:\n",
    "    pickle.dump(bag_of_words, file)\n",
    "with open('../data/vocabulary.pkl', 'wb') as file:\n",
    "    pickle.dump(cv.vocabulary_, file)"
   ],
   "metadata": {
    "collapsed": false,
    "ExecuteTime": {
     "start_time": "2023-06-02T01:20:32.587250Z",
     "end_time": "2023-06-02T01:20:32.644576Z"
    }
   }
  },
  {
   "cell_type": "code",
   "execution_count": 13,
   "outputs": [],
   "source": [
    "tfidf_vectorizer = TfidfVectorizer()"
   ],
   "metadata": {
    "collapsed": false,
    "ExecuteTime": {
     "start_time": "2023-06-02T01:20:32.603238Z",
     "end_time": "2023-06-02T01:20:32.652205Z"
    }
   }
  },
  {
   "cell_type": "code",
   "execution_count": 14,
   "outputs": [],
   "source": [
    "tfidf_matrix = tfidf_vectorizer.fit_transform(messages_df['normalized_text'])\n",
    "feature_names = tfidf_vectorizer.get_feature_names_out()"
   ],
   "metadata": {
    "collapsed": false,
    "ExecuteTime": {
     "start_time": "2023-06-02T01:20:32.606695Z",
     "end_time": "2023-06-02T01:20:32.669507Z"
    }
   }
  },
  {
   "cell_type": "code",
   "execution_count": 15,
   "outputs": [],
   "source": [
    "words = pd.Series(np.concatenate(messages_df['words']))\n",
    "words_count = words.value_counts()"
   ],
   "metadata": {
    "collapsed": false,
    "ExecuteTime": {
     "start_time": "2023-06-02T01:20:32.623825Z",
     "end_time": "2023-06-02T01:20:32.698681Z"
    }
   }
  },
  {
   "cell_type": "code",
   "execution_count": 16,
   "outputs": [
    {
     "data": {
      "text/plain": "                                              raw_text   украина  российский  \\\n0              Какие предсказания пацаны ,будем анимэ?  0.000000         0.0   \n1    ⚡️Международный аэропорт Харькова закрыт на пр...  0.000000         0.0   \n2    Жить будем пацаны ,устроим встречу подписчиков...  0.000000         0.0   \n3    https://t.me/joinchat/Uxs7-tq2uRtIzthH\\n\\nССЫЛ...  0.000000         0.0   \n4    ⚡️Владимир Зеленский заявил о поставке Францие...  0.101376         0.0   \n..                                                 ...       ...         ...   \n816  ⚡️ Буча. Киевская область. Активные бои. \\n\\nН...  0.000000         0.0   \n817            Рузкие «тигры» горят на улицах Харькова  0.000000         0.0   \n818                      ⚡️На Троещине взрыв, идёт дым  0.000000         0.0   \n819  ❗️ Сейчас коронавирус в ахуе капитулирует с пл...  0.000000         0.0   \n820                         Шевченко, 335\\n\\n📍 Харьков  0.000000         0.0   \n\n     канал  киев  россия  военный  который   рф   харьков  город  \n0      0.0   0.0     0.0      0.0      0.0  0.0  0.000000    0.0  \n1      0.0   0.0     0.0      0.0      0.0  0.0  0.125176    0.0  \n2      0.0   0.0     0.0      0.0      0.0  0.0  0.000000    0.0  \n3      0.0   0.0     0.0      0.0      0.0  0.0  0.000000    0.0  \n4      0.0   0.0     0.0      0.0      0.0  0.0  0.000000    0.0  \n..     ...   ...     ...      ...      ...  ...       ...    ...  \n816    0.0   0.0     0.0      0.0      0.0  0.0  0.000000    0.0  \n817    0.0   0.0     0.0      0.0      0.0  0.0  0.281246    0.0  \n818    0.0   0.0     0.0      0.0      0.0  0.0  0.000000    0.0  \n819    0.0   0.0     0.0      0.0      0.0  0.0  0.000000    0.0  \n820    0.0   0.0     0.0      0.0      0.0  0.0  0.365016    0.0  \n\n[821 rows x 11 columns]",
      "text/html": "<div>\n<style scoped>\n    .dataframe tbody tr th:only-of-type {\n        vertical-align: middle;\n    }\n\n    .dataframe tbody tr th {\n        vertical-align: top;\n    }\n\n    .dataframe thead th {\n        text-align: right;\n    }\n</style>\n<table border=\"1\" class=\"dataframe\">\n  <thead>\n    <tr style=\"text-align: right;\">\n      <th></th>\n      <th>raw_text</th>\n      <th>украина</th>\n      <th>российский</th>\n      <th>канал</th>\n      <th>киев</th>\n      <th>россия</th>\n      <th>военный</th>\n      <th>который</th>\n      <th>рф</th>\n      <th>харьков</th>\n      <th>город</th>\n    </tr>\n  </thead>\n  <tbody>\n    <tr>\n      <th>0</th>\n      <td>Какие предсказания пацаны ,будем анимэ?</td>\n      <td>0.000000</td>\n      <td>0.0</td>\n      <td>0.0</td>\n      <td>0.0</td>\n      <td>0.0</td>\n      <td>0.0</td>\n      <td>0.0</td>\n      <td>0.0</td>\n      <td>0.000000</td>\n      <td>0.0</td>\n    </tr>\n    <tr>\n      <th>1</th>\n      <td>⚡️Международный аэропорт Харькова закрыт на пр...</td>\n      <td>0.000000</td>\n      <td>0.0</td>\n      <td>0.0</td>\n      <td>0.0</td>\n      <td>0.0</td>\n      <td>0.0</td>\n      <td>0.0</td>\n      <td>0.0</td>\n      <td>0.125176</td>\n      <td>0.0</td>\n    </tr>\n    <tr>\n      <th>2</th>\n      <td>Жить будем пацаны ,устроим встречу подписчиков...</td>\n      <td>0.000000</td>\n      <td>0.0</td>\n      <td>0.0</td>\n      <td>0.0</td>\n      <td>0.0</td>\n      <td>0.0</td>\n      <td>0.0</td>\n      <td>0.0</td>\n      <td>0.000000</td>\n      <td>0.0</td>\n    </tr>\n    <tr>\n      <th>3</th>\n      <td>https://t.me/joinchat/Uxs7-tq2uRtIzthH\\n\\nССЫЛ...</td>\n      <td>0.000000</td>\n      <td>0.0</td>\n      <td>0.0</td>\n      <td>0.0</td>\n      <td>0.0</td>\n      <td>0.0</td>\n      <td>0.0</td>\n      <td>0.0</td>\n      <td>0.000000</td>\n      <td>0.0</td>\n    </tr>\n    <tr>\n      <th>4</th>\n      <td>⚡️Владимир Зеленский заявил о поставке Францие...</td>\n      <td>0.101376</td>\n      <td>0.0</td>\n      <td>0.0</td>\n      <td>0.0</td>\n      <td>0.0</td>\n      <td>0.0</td>\n      <td>0.0</td>\n      <td>0.0</td>\n      <td>0.000000</td>\n      <td>0.0</td>\n    </tr>\n    <tr>\n      <th>...</th>\n      <td>...</td>\n      <td>...</td>\n      <td>...</td>\n      <td>...</td>\n      <td>...</td>\n      <td>...</td>\n      <td>...</td>\n      <td>...</td>\n      <td>...</td>\n      <td>...</td>\n      <td>...</td>\n    </tr>\n    <tr>\n      <th>816</th>\n      <td>⚡️ Буча. Киевская область. Активные бои. \\n\\nН...</td>\n      <td>0.000000</td>\n      <td>0.0</td>\n      <td>0.0</td>\n      <td>0.0</td>\n      <td>0.0</td>\n      <td>0.0</td>\n      <td>0.0</td>\n      <td>0.0</td>\n      <td>0.000000</td>\n      <td>0.0</td>\n    </tr>\n    <tr>\n      <th>817</th>\n      <td>Рузкие «тигры» горят на улицах Харькова</td>\n      <td>0.000000</td>\n      <td>0.0</td>\n      <td>0.0</td>\n      <td>0.0</td>\n      <td>0.0</td>\n      <td>0.0</td>\n      <td>0.0</td>\n      <td>0.0</td>\n      <td>0.281246</td>\n      <td>0.0</td>\n    </tr>\n    <tr>\n      <th>818</th>\n      <td>⚡️На Троещине взрыв, идёт дым</td>\n      <td>0.000000</td>\n      <td>0.0</td>\n      <td>0.0</td>\n      <td>0.0</td>\n      <td>0.0</td>\n      <td>0.0</td>\n      <td>0.0</td>\n      <td>0.0</td>\n      <td>0.000000</td>\n      <td>0.0</td>\n    </tr>\n    <tr>\n      <th>819</th>\n      <td>❗️ Сейчас коронавирус в ахуе капитулирует с пл...</td>\n      <td>0.000000</td>\n      <td>0.0</td>\n      <td>0.0</td>\n      <td>0.0</td>\n      <td>0.0</td>\n      <td>0.0</td>\n      <td>0.0</td>\n      <td>0.0</td>\n      <td>0.000000</td>\n      <td>0.0</td>\n    </tr>\n    <tr>\n      <th>820</th>\n      <td>Шевченко, 335\\n\\n📍 Харьков</td>\n      <td>0.000000</td>\n      <td>0.0</td>\n      <td>0.0</td>\n      <td>0.0</td>\n      <td>0.0</td>\n      <td>0.0</td>\n      <td>0.0</td>\n      <td>0.0</td>\n      <td>0.365016</td>\n      <td>0.0</td>\n    </tr>\n  </tbody>\n</table>\n<p>821 rows × 11 columns</p>\n</div>"
     },
     "execution_count": 16,
     "metadata": {},
     "output_type": "execute_result"
    }
   ],
   "source": [
    "top_words_df = messages_df[['raw_text']].copy()\n",
    "for word in words_count.head(10).index:\n",
    "    top_words_df[word] = 0\n",
    "    word_index = np.where(feature_names == word)[0][0]\n",
    "    for document_index, _ in top_words_df.iterrows():\n",
    "        top_words_df.loc[document_index, word] = tfidf_matrix[document_index, word_index]\n",
    "top_words_df"
   ],
   "metadata": {
    "collapsed": false,
    "ExecuteTime": {
     "start_time": "2023-06-02T01:20:32.876237Z",
     "end_time": "2023-06-02T01:20:33.120686Z"
    }
   }
  }
 ],
 "metadata": {
  "kernelspec": {
   "display_name": "Python 3",
   "language": "python",
   "name": "python3"
  },
  "language_info": {
   "codemirror_mode": {
    "name": "ipython",
    "version": 2
   },
   "file_extension": ".py",
   "mimetype": "text/x-python",
   "name": "python",
   "nbconvert_exporter": "python",
   "pygments_lexer": "ipython2",
   "version": "2.7.6"
  }
 },
 "nbformat": 4,
 "nbformat_minor": 0
}
