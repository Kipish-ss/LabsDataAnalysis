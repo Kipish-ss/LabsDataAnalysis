{
 "cells": [
  {
   "cell_type": "code",
   "execution_count": 1,
   "metadata": {
    "collapsed": true,
    "ExecuteTime": {
     "end_time": "2023-09-05T19:44:39.693447Z",
     "start_time": "2023-09-05T19:44:39.277775Z"
    }
   },
   "outputs": [],
   "source": [
    "import pandas as pd\n",
    "%matplotlib inline"
   ]
  },
  {
   "cell_type": "markdown",
   "source": [
    "# Main task"
   ],
   "metadata": {
    "collapsed": false
   }
  },
  {
   "cell_type": "markdown",
   "source": [
    "## 1. Reading data from csv into DataFrame"
   ],
   "metadata": {
    "collapsed": false
   }
  },
  {
   "cell_type": "code",
   "execution_count": 2,
   "metadata": {
    "ExecuteTime": {
     "end_time": "2023-09-05T19:44:39.706845Z",
     "start_time": "2023-09-05T19:44:39.693768Z"
    }
   },
   "outputs": [
    {
     "data": {
      "text/plain": "     Country Name                      Region GDP per capita  Populatiion  \\\n0     Afghanistan                  South Asia    561,7787463   34656032.0   \n1         Albania       Europe & Central Asia     4124,98239    2876101.0   \n2         Algeria  Middle East & North Africa    3916,881571   40606052.0   \n3  American Samoa         East Asia & Pacific    11834,74523      55599.0   \n4         Andorra       Europe & Central Asia    36988,62203      77281.0   \n\n  CO2 emission     Area  \n0     9809,225   652860  \n1     5716,853    28750  \n2   145400,217  2381740  \n3          NaN      200  \n4      462,042      470  ",
      "text/html": "<div>\n<style scoped>\n    .dataframe tbody tr th:only-of-type {\n        vertical-align: middle;\n    }\n\n    .dataframe tbody tr th {\n        vertical-align: top;\n    }\n\n    .dataframe thead th {\n        text-align: right;\n    }\n</style>\n<table border=\"1\" class=\"dataframe\">\n  <thead>\n    <tr style=\"text-align: right;\">\n      <th></th>\n      <th>Country Name</th>\n      <th>Region</th>\n      <th>GDP per capita</th>\n      <th>Populatiion</th>\n      <th>CO2 emission</th>\n      <th>Area</th>\n    </tr>\n  </thead>\n  <tbody>\n    <tr>\n      <th>0</th>\n      <td>Afghanistan</td>\n      <td>South Asia</td>\n      <td>561,7787463</td>\n      <td>34656032.0</td>\n      <td>9809,225</td>\n      <td>652860</td>\n    </tr>\n    <tr>\n      <th>1</th>\n      <td>Albania</td>\n      <td>Europe &amp; Central Asia</td>\n      <td>4124,98239</td>\n      <td>2876101.0</td>\n      <td>5716,853</td>\n      <td>28750</td>\n    </tr>\n    <tr>\n      <th>2</th>\n      <td>Algeria</td>\n      <td>Middle East &amp; North Africa</td>\n      <td>3916,881571</td>\n      <td>40606052.0</td>\n      <td>145400,217</td>\n      <td>2381740</td>\n    </tr>\n    <tr>\n      <th>3</th>\n      <td>American Samoa</td>\n      <td>East Asia &amp; Pacific</td>\n      <td>11834,74523</td>\n      <td>55599.0</td>\n      <td>NaN</td>\n      <td>200</td>\n    </tr>\n    <tr>\n      <th>4</th>\n      <td>Andorra</td>\n      <td>Europe &amp; Central Asia</td>\n      <td>36988,62203</td>\n      <td>77281.0</td>\n      <td>462,042</td>\n      <td>470</td>\n    </tr>\n  </tbody>\n</table>\n</div>"
     },
     "execution_count": 2,
     "metadata": {},
     "output_type": "execute_result"
    }
   ],
   "source": [
    "df: pd.DataFrame = pd.read_csv('../data/Data2.csv', sep=';', encoding=\"ISO-8859-1\")\n",
    "df.head()"
   ]
  },
  {
   "cell_type": "code",
   "execution_count": 3,
   "outputs": [
    {
     "data": {
      "text/plain": "              Country Name                      Region GDP per capita  \\\n212  Virgin Islands (U.S.)   Latin America & Caribbean            NaN   \n213     West Bank and Gaza  Middle East & North Africa    2943,404534   \n214            Yemen, Rep.  Middle East & North Africa     990,334774   \n215                 Zambia          Sub-Saharan Africa    1269,573537   \n216               Zimbabwe          Sub-Saharan Africa    1029,076649   \n\n     Populatiion CO2 emission    Area  \n212     102951.0          NaN     350  \n213    4551566.0          NaN    6020  \n214   27584213.0     22698,73  527970  \n215   16591390.0     4503,076  752610  \n216   16150362.0    12020,426  390760  ",
      "text/html": "<div>\n<style scoped>\n    .dataframe tbody tr th:only-of-type {\n        vertical-align: middle;\n    }\n\n    .dataframe tbody tr th {\n        vertical-align: top;\n    }\n\n    .dataframe thead th {\n        text-align: right;\n    }\n</style>\n<table border=\"1\" class=\"dataframe\">\n  <thead>\n    <tr style=\"text-align: right;\">\n      <th></th>\n      <th>Country Name</th>\n      <th>Region</th>\n      <th>GDP per capita</th>\n      <th>Populatiion</th>\n      <th>CO2 emission</th>\n      <th>Area</th>\n    </tr>\n  </thead>\n  <tbody>\n    <tr>\n      <th>212</th>\n      <td>Virgin Islands (U.S.)</td>\n      <td>Latin America &amp; Caribbean</td>\n      <td>NaN</td>\n      <td>102951.0</td>\n      <td>NaN</td>\n      <td>350</td>\n    </tr>\n    <tr>\n      <th>213</th>\n      <td>West Bank and Gaza</td>\n      <td>Middle East &amp; North Africa</td>\n      <td>2943,404534</td>\n      <td>4551566.0</td>\n      <td>NaN</td>\n      <td>6020</td>\n    </tr>\n    <tr>\n      <th>214</th>\n      <td>Yemen, Rep.</td>\n      <td>Middle East &amp; North Africa</td>\n      <td>990,334774</td>\n      <td>27584213.0</td>\n      <td>22698,73</td>\n      <td>527970</td>\n    </tr>\n    <tr>\n      <th>215</th>\n      <td>Zambia</td>\n      <td>Sub-Saharan Africa</td>\n      <td>1269,573537</td>\n      <td>16591390.0</td>\n      <td>4503,076</td>\n      <td>752610</td>\n    </tr>\n    <tr>\n      <th>216</th>\n      <td>Zimbabwe</td>\n      <td>Sub-Saharan Africa</td>\n      <td>1029,076649</td>\n      <td>16150362.0</td>\n      <td>12020,426</td>\n      <td>390760</td>\n    </tr>\n  </tbody>\n</table>\n</div>"
     },
     "execution_count": 3,
     "metadata": {},
     "output_type": "execute_result"
    }
   ],
   "source": [
    "df.tail()"
   ],
   "metadata": {
    "collapsed": false,
    "ExecuteTime": {
     "end_time": "2023-09-05T19:44:39.708241Z",
     "start_time": "2023-09-05T19:44:39.704065Z"
    }
   }
  },
  {
   "cell_type": "markdown",
   "source": [
    "## 2. Data cleaning"
   ],
   "metadata": {
    "collapsed": false
   }
  },
  {
   "cell_type": "markdown",
   "source": [
    "### 2.1 Renaming columns"
   ],
   "metadata": {
    "collapsed": false
   }
  },
  {
   "cell_type": "code",
   "execution_count": 4,
   "metadata": {
    "ExecuteTime": {
     "end_time": "2023-09-05T19:44:39.714381Z",
     "start_time": "2023-09-05T19:44:39.709466Z"
    }
   },
   "outputs": [
    {
     "data": {
      "text/plain": "     Country Name                      Region GDP per capita  Population  \\\n0     Afghanistan                  South Asia    561,7787463  34656032.0   \n1         Albania       Europe & Central Asia     4124,98239   2876101.0   \n2         Algeria  Middle East & North Africa    3916,881571  40606052.0   \n3  American Samoa         East Asia & Pacific    11834,74523     55599.0   \n4         Andorra       Europe & Central Asia    36988,62203     77281.0   \n\n  CO2 emission     Area  \n0     9809,225   652860  \n1     5716,853    28750  \n2   145400,217  2381740  \n3          NaN      200  \n4      462,042      470  ",
      "text/html": "<div>\n<style scoped>\n    .dataframe tbody tr th:only-of-type {\n        vertical-align: middle;\n    }\n\n    .dataframe tbody tr th {\n        vertical-align: top;\n    }\n\n    .dataframe thead th {\n        text-align: right;\n    }\n</style>\n<table border=\"1\" class=\"dataframe\">\n  <thead>\n    <tr style=\"text-align: right;\">\n      <th></th>\n      <th>Country Name</th>\n      <th>Region</th>\n      <th>GDP per capita</th>\n      <th>Population</th>\n      <th>CO2 emission</th>\n      <th>Area</th>\n    </tr>\n  </thead>\n  <tbody>\n    <tr>\n      <th>0</th>\n      <td>Afghanistan</td>\n      <td>South Asia</td>\n      <td>561,7787463</td>\n      <td>34656032.0</td>\n      <td>9809,225</td>\n      <td>652860</td>\n    </tr>\n    <tr>\n      <th>1</th>\n      <td>Albania</td>\n      <td>Europe &amp; Central Asia</td>\n      <td>4124,98239</td>\n      <td>2876101.0</td>\n      <td>5716,853</td>\n      <td>28750</td>\n    </tr>\n    <tr>\n      <th>2</th>\n      <td>Algeria</td>\n      <td>Middle East &amp; North Africa</td>\n      <td>3916,881571</td>\n      <td>40606052.0</td>\n      <td>145400,217</td>\n      <td>2381740</td>\n    </tr>\n    <tr>\n      <th>3</th>\n      <td>American Samoa</td>\n      <td>East Asia &amp; Pacific</td>\n      <td>11834,74523</td>\n      <td>55599.0</td>\n      <td>NaN</td>\n      <td>200</td>\n    </tr>\n    <tr>\n      <th>4</th>\n      <td>Andorra</td>\n      <td>Europe &amp; Central Asia</td>\n      <td>36988,62203</td>\n      <td>77281.0</td>\n      <td>462,042</td>\n      <td>470</td>\n    </tr>\n  </tbody>\n</table>\n</div>"
     },
     "execution_count": 4,
     "metadata": {},
     "output_type": "execute_result"
    }
   ],
   "source": [
    "df = df.rename(columns={'Populatiion': 'Population'})\n",
    "df.head()"
   ]
  },
  {
   "cell_type": "markdown",
   "source": [
    "### 2.2 Checking for duplicates"
   ],
   "metadata": {
    "collapsed": false
   }
  },
  {
   "cell_type": "code",
   "execution_count": 5,
   "metadata": {
    "ExecuteTime": {
     "end_time": "2023-09-05T19:44:39.733347Z",
     "start_time": "2023-09-05T19:44:39.713298Z"
    }
   },
   "outputs": [
    {
     "data": {
      "text/plain": "0"
     },
     "execution_count": 5,
     "metadata": {},
     "output_type": "execute_result"
    }
   ],
   "source": [
    "df.duplicated().sum()"
   ]
  },
  {
   "cell_type": "markdown",
   "source": [
    "### 2.3 Formatting columns"
   ],
   "metadata": {
    "collapsed": false
   }
  },
  {
   "cell_type": "code",
   "execution_count": 6,
   "metadata": {
    "ExecuteTime": {
     "end_time": "2023-09-05T19:44:39.776694Z",
     "start_time": "2023-09-05T19:44:39.720688Z"
    }
   },
   "outputs": [
    {
     "data": {
      "text/plain": "     Country Name                      Region  GDP per capita  Population  \\\n0     Afghanistan                  South Asia      561.778746  34656032.0   \n1         Albania       Europe & Central Asia     4124.982390   2876101.0   \n2         Algeria  Middle East & North Africa     3916.881571  40606052.0   \n3  American Samoa         East Asia & Pacific    11834.745230     55599.0   \n4         Andorra       Europe & Central Asia    36988.622030     77281.0   \n\n   CO2 emission       Area  \n0      9809.225   652860.0  \n1      5716.853    28750.0  \n2    145400.217  2381740.0  \n3           NaN      200.0  \n4       462.042      470.0  ",
      "text/html": "<div>\n<style scoped>\n    .dataframe tbody tr th:only-of-type {\n        vertical-align: middle;\n    }\n\n    .dataframe tbody tr th {\n        vertical-align: top;\n    }\n\n    .dataframe thead th {\n        text-align: right;\n    }\n</style>\n<table border=\"1\" class=\"dataframe\">\n  <thead>\n    <tr style=\"text-align: right;\">\n      <th></th>\n      <th>Country Name</th>\n      <th>Region</th>\n      <th>GDP per capita</th>\n      <th>Population</th>\n      <th>CO2 emission</th>\n      <th>Area</th>\n    </tr>\n  </thead>\n  <tbody>\n    <tr>\n      <th>0</th>\n      <td>Afghanistan</td>\n      <td>South Asia</td>\n      <td>561.778746</td>\n      <td>34656032.0</td>\n      <td>9809.225</td>\n      <td>652860.0</td>\n    </tr>\n    <tr>\n      <th>1</th>\n      <td>Albania</td>\n      <td>Europe &amp; Central Asia</td>\n      <td>4124.982390</td>\n      <td>2876101.0</td>\n      <td>5716.853</td>\n      <td>28750.0</td>\n    </tr>\n    <tr>\n      <th>2</th>\n      <td>Algeria</td>\n      <td>Middle East &amp; North Africa</td>\n      <td>3916.881571</td>\n      <td>40606052.0</td>\n      <td>145400.217</td>\n      <td>2381740.0</td>\n    </tr>\n    <tr>\n      <th>3</th>\n      <td>American Samoa</td>\n      <td>East Asia &amp; Pacific</td>\n      <td>11834.745230</td>\n      <td>55599.0</td>\n      <td>NaN</td>\n      <td>200.0</td>\n    </tr>\n    <tr>\n      <th>4</th>\n      <td>Andorra</td>\n      <td>Europe &amp; Central Asia</td>\n      <td>36988.622030</td>\n      <td>77281.0</td>\n      <td>462.042</td>\n      <td>470.0</td>\n    </tr>\n  </tbody>\n</table>\n</div>"
     },
     "execution_count": 6,
     "metadata": {},
     "output_type": "execute_result"
    }
   ],
   "source": [
    "for column in ['GDP per capita', 'CO2 emission', 'Area']:\n",
    "    df[column] = df[column].str.replace(',', '.')\n",
    "    df[column] = df[column].str.replace('-', '')\n",
    "    df[column] = df[column].astype(float)\n",
    "df.head()"
   ]
  },
  {
   "cell_type": "code",
   "execution_count": 7,
   "outputs": [
    {
     "data": {
      "text/plain": "        Country Name              Region  GDP per capita  Population  \\\n44  Congo, Dem. Rep.  Sub-Saharan Africa      405.542501  78736153.0   \n45       Congo, Rep.  Sub-Saharan Africa     1528.244720   5125821.0   \n\n    CO2 emission       Area  \n44      4671.758  2344860.0  \n45      3094.948   342000.0  ",
      "text/html": "<div>\n<style scoped>\n    .dataframe tbody tr th:only-of-type {\n        vertical-align: middle;\n    }\n\n    .dataframe tbody tr th {\n        vertical-align: top;\n    }\n\n    .dataframe thead th {\n        text-align: right;\n    }\n</style>\n<table border=\"1\" class=\"dataframe\">\n  <thead>\n    <tr style=\"text-align: right;\">\n      <th></th>\n      <th>Country Name</th>\n      <th>Region</th>\n      <th>GDP per capita</th>\n      <th>Population</th>\n      <th>CO2 emission</th>\n      <th>Area</th>\n    </tr>\n  </thead>\n  <tbody>\n    <tr>\n      <th>44</th>\n      <td>Congo, Dem. Rep.</td>\n      <td>Sub-Saharan Africa</td>\n      <td>405.542501</td>\n      <td>78736153.0</td>\n      <td>4671.758</td>\n      <td>2344860.0</td>\n    </tr>\n    <tr>\n      <th>45</th>\n      <td>Congo, Rep.</td>\n      <td>Sub-Saharan Africa</td>\n      <td>1528.244720</td>\n      <td>5125821.0</td>\n      <td>3094.948</td>\n      <td>342000.0</td>\n    </tr>\n  </tbody>\n</table>\n</div>"
     },
     "execution_count": 7,
     "metadata": {},
     "output_type": "execute_result"
    }
   ],
   "source": [
    "df[df['Country Name'].str.contains('Congo')]"
   ],
   "metadata": {
    "collapsed": false,
    "ExecuteTime": {
     "end_time": "2023-09-05T19:44:39.813837Z",
     "start_time": "2023-09-05T19:44:39.726084Z"
    }
   }
  },
  {
   "cell_type": "code",
   "execution_count": 8,
   "outputs": [
    {
     "data": {
      "text/plain": "                        Country Name              Region  GDP per capita  \\\n44  Democratic Republic of the Congo  Sub-Saharan Africa      405.542501   \n45             Republic of the Congo  Sub-Saharan Africa     1528.244720   \n\n    Population  CO2 emission       Area  \n44  78736153.0      4671.758  2344860.0  \n45   5125821.0      3094.948   342000.0  ",
      "text/html": "<div>\n<style scoped>\n    .dataframe tbody tr th:only-of-type {\n        vertical-align: middle;\n    }\n\n    .dataframe tbody tr th {\n        vertical-align: top;\n    }\n\n    .dataframe thead th {\n        text-align: right;\n    }\n</style>\n<table border=\"1\" class=\"dataframe\">\n  <thead>\n    <tr style=\"text-align: right;\">\n      <th></th>\n      <th>Country Name</th>\n      <th>Region</th>\n      <th>GDP per capita</th>\n      <th>Population</th>\n      <th>CO2 emission</th>\n      <th>Area</th>\n    </tr>\n  </thead>\n  <tbody>\n    <tr>\n      <th>44</th>\n      <td>Democratic Republic of the Congo</td>\n      <td>Sub-Saharan Africa</td>\n      <td>405.542501</td>\n      <td>78736153.0</td>\n      <td>4671.758</td>\n      <td>2344860.0</td>\n    </tr>\n    <tr>\n      <th>45</th>\n      <td>Republic of the Congo</td>\n      <td>Sub-Saharan Africa</td>\n      <td>1528.244720</td>\n      <td>5125821.0</td>\n      <td>3094.948</td>\n      <td>342000.0</td>\n    </tr>\n  </tbody>\n</table>\n</div>"
     },
     "execution_count": 8,
     "metadata": {},
     "output_type": "execute_result"
    }
   ],
   "source": [
    "country_mapping = {'Congo, Dem. Rep.': 'Democratic Republic of the Congo', 'Congo, Rep.': 'Republic of the Congo'}\n",
    "df['Country Name'] = df['Country Name'].replace(country_mapping)\n",
    "df[df['Country Name'].str.contains('Congo')]"
   ],
   "metadata": {
    "collapsed": false,
    "ExecuteTime": {
     "end_time": "2023-09-05T19:44:39.814568Z",
     "start_time": "2023-09-05T19:44:39.731033Z"
    }
   }
  },
  {
   "cell_type": "code",
   "execution_count": 9,
   "outputs": [
    {
     "data": {
      "text/plain": "     Country Name                      Region  GDP per capita  Population  \\\n0     Afghanistan                  South Asia      561.778746  34656032.0   \n1         Albania       Europe & Central Asia     4124.982390   2876101.0   \n2         Algeria  Middle East & North Africa     3916.881571  40606052.0   \n3  American Samoa         East Asia & Pacific    11834.745230     55599.0   \n4         Andorra       Europe & Central Asia    36988.622030     77281.0   \n\n   CO2 emission       Area  \n0      9809.225   652860.0  \n1      5716.853    28750.0  \n2    145400.217  2381740.0  \n3           NaN      200.0  \n4       462.042      470.0  ",
      "text/html": "<div>\n<style scoped>\n    .dataframe tbody tr th:only-of-type {\n        vertical-align: middle;\n    }\n\n    .dataframe tbody tr th {\n        vertical-align: top;\n    }\n\n    .dataframe thead th {\n        text-align: right;\n    }\n</style>\n<table border=\"1\" class=\"dataframe\">\n  <thead>\n    <tr style=\"text-align: right;\">\n      <th></th>\n      <th>Country Name</th>\n      <th>Region</th>\n      <th>GDP per capita</th>\n      <th>Population</th>\n      <th>CO2 emission</th>\n      <th>Area</th>\n    </tr>\n  </thead>\n  <tbody>\n    <tr>\n      <th>0</th>\n      <td>Afghanistan</td>\n      <td>South Asia</td>\n      <td>561.778746</td>\n      <td>34656032.0</td>\n      <td>9809.225</td>\n      <td>652860.0</td>\n    </tr>\n    <tr>\n      <th>1</th>\n      <td>Albania</td>\n      <td>Europe &amp; Central Asia</td>\n      <td>4124.982390</td>\n      <td>2876101.0</td>\n      <td>5716.853</td>\n      <td>28750.0</td>\n    </tr>\n    <tr>\n      <th>2</th>\n      <td>Algeria</td>\n      <td>Middle East &amp; North Africa</td>\n      <td>3916.881571</td>\n      <td>40606052.0</td>\n      <td>145400.217</td>\n      <td>2381740.0</td>\n    </tr>\n    <tr>\n      <th>3</th>\n      <td>American Samoa</td>\n      <td>East Asia &amp; Pacific</td>\n      <td>11834.745230</td>\n      <td>55599.0</td>\n      <td>NaN</td>\n      <td>200.0</td>\n    </tr>\n    <tr>\n      <th>4</th>\n      <td>Andorra</td>\n      <td>Europe &amp; Central Asia</td>\n      <td>36988.622030</td>\n      <td>77281.0</td>\n      <td>462.042</td>\n      <td>470.0</td>\n    </tr>\n  </tbody>\n</table>\n</div>"
     },
     "execution_count": 9,
     "metadata": {},
     "output_type": "execute_result"
    }
   ],
   "source": [
    "df['Country Name'] = df['Country Name'].str.extract(r'([a-zA-Z\\s\\.]+)')\n",
    "df.head()"
   ],
   "metadata": {
    "collapsed": false,
    "ExecuteTime": {
     "end_time": "2023-09-05T19:44:39.833454Z",
     "start_time": "2023-09-05T19:44:39.736254Z"
    }
   }
  },
  {
   "cell_type": "markdown",
   "source": [
    "### 2.4 Mean imputation (additional task)"
   ],
   "metadata": {
    "collapsed": false
   }
  },
  {
   "cell_type": "code",
   "execution_count": 10,
   "metadata": {
    "ExecuteTime": {
     "end_time": "2023-09-05T19:44:39.833758Z",
     "start_time": "2023-09-05T19:44:39.739556Z"
    }
   },
   "outputs": [
    {
     "data": {
      "text/plain": "Country Name       0\nRegion             0\nGDP per capita    27\nPopulation         1\nCO2 emission      12\nArea               0\ndtype: int64"
     },
     "execution_count": 10,
     "metadata": {},
     "output_type": "execute_result"
    }
   ],
   "source": [
    "df.isna().sum()"
   ]
  },
  {
   "cell_type": "code",
   "execution_count": 11,
   "metadata": {
    "ExecuteTime": {
     "end_time": "2023-09-05T19:44:39.843631Z",
     "start_time": "2023-09-05T19:44:39.745718Z"
    }
   },
   "outputs": [
    {
     "data": {
      "text/plain": "     Country Name                      Region  GDP per capita  Population  \\\n0     Afghanistan                  South Asia      561.778746  34656032.0   \n1         Albania       Europe & Central Asia     4124.982390   2876101.0   \n2         Algeria  Middle East & North Africa     3916.881571  40606052.0   \n3  American Samoa         East Asia & Pacific    11834.745230     55599.0   \n4         Andorra       Europe & Central Asia    36988.622030     77281.0   \n\n    CO2 emission       Area  \n0    9809.225000   652860.0  \n1    5716.853000    28750.0  \n2  145400.217000  2381740.0  \n3  165114.116337      200.0  \n4     462.042000      470.0  ",
      "text/html": "<div>\n<style scoped>\n    .dataframe tbody tr th:only-of-type {\n        vertical-align: middle;\n    }\n\n    .dataframe tbody tr th {\n        vertical-align: top;\n    }\n\n    .dataframe thead th {\n        text-align: right;\n    }\n</style>\n<table border=\"1\" class=\"dataframe\">\n  <thead>\n    <tr style=\"text-align: right;\">\n      <th></th>\n      <th>Country Name</th>\n      <th>Region</th>\n      <th>GDP per capita</th>\n      <th>Population</th>\n      <th>CO2 emission</th>\n      <th>Area</th>\n    </tr>\n  </thead>\n  <tbody>\n    <tr>\n      <th>0</th>\n      <td>Afghanistan</td>\n      <td>South Asia</td>\n      <td>561.778746</td>\n      <td>34656032.0</td>\n      <td>9809.225000</td>\n      <td>652860.0</td>\n    </tr>\n    <tr>\n      <th>1</th>\n      <td>Albania</td>\n      <td>Europe &amp; Central Asia</td>\n      <td>4124.982390</td>\n      <td>2876101.0</td>\n      <td>5716.853000</td>\n      <td>28750.0</td>\n    </tr>\n    <tr>\n      <th>2</th>\n      <td>Algeria</td>\n      <td>Middle East &amp; North Africa</td>\n      <td>3916.881571</td>\n      <td>40606052.0</td>\n      <td>145400.217000</td>\n      <td>2381740.0</td>\n    </tr>\n    <tr>\n      <th>3</th>\n      <td>American Samoa</td>\n      <td>East Asia &amp; Pacific</td>\n      <td>11834.745230</td>\n      <td>55599.0</td>\n      <td>165114.116337</td>\n      <td>200.0</td>\n    </tr>\n    <tr>\n      <th>4</th>\n      <td>Andorra</td>\n      <td>Europe &amp; Central Asia</td>\n      <td>36988.622030</td>\n      <td>77281.0</td>\n      <td>462.042000</td>\n      <td>470.0</td>\n    </tr>\n  </tbody>\n</table>\n</div>"
     },
     "execution_count": 11,
     "metadata": {},
     "output_type": "execute_result"
    }
   ],
   "source": [
    "df.fillna(df.mean(numeric_only=True), inplace=True)\n",
    "df.head()"
   ]
  },
  {
   "cell_type": "code",
   "execution_count": 12,
   "outputs": [
    {
     "data": {
      "text/plain": "     Country Name                      Region  GDP per capita  Population  \\\n0     Afghanistan                  South Asia      561.778746    34656032   \n1         Albania       Europe & Central Asia     4124.982390     2876101   \n2         Algeria  Middle East & North Africa     3916.881571    40606052   \n3  American Samoa         East Asia & Pacific    11834.745230       55599   \n4         Andorra       Europe & Central Asia    36988.622030       77281   \n\n    CO2 emission       Area  \n0    9809.225000   652860.0  \n1    5716.853000    28750.0  \n2  145400.217000  2381740.0  \n3  165114.116337      200.0  \n4     462.042000      470.0  ",
      "text/html": "<div>\n<style scoped>\n    .dataframe tbody tr th:only-of-type {\n        vertical-align: middle;\n    }\n\n    .dataframe tbody tr th {\n        vertical-align: top;\n    }\n\n    .dataframe thead th {\n        text-align: right;\n    }\n</style>\n<table border=\"1\" class=\"dataframe\">\n  <thead>\n    <tr style=\"text-align: right;\">\n      <th></th>\n      <th>Country Name</th>\n      <th>Region</th>\n      <th>GDP per capita</th>\n      <th>Population</th>\n      <th>CO2 emission</th>\n      <th>Area</th>\n    </tr>\n  </thead>\n  <tbody>\n    <tr>\n      <th>0</th>\n      <td>Afghanistan</td>\n      <td>South Asia</td>\n      <td>561.778746</td>\n      <td>34656032</td>\n      <td>9809.225000</td>\n      <td>652860.0</td>\n    </tr>\n    <tr>\n      <th>1</th>\n      <td>Albania</td>\n      <td>Europe &amp; Central Asia</td>\n      <td>4124.982390</td>\n      <td>2876101</td>\n      <td>5716.853000</td>\n      <td>28750.0</td>\n    </tr>\n    <tr>\n      <th>2</th>\n      <td>Algeria</td>\n      <td>Middle East &amp; North Africa</td>\n      <td>3916.881571</td>\n      <td>40606052</td>\n      <td>145400.217000</td>\n      <td>2381740.0</td>\n    </tr>\n    <tr>\n      <th>3</th>\n      <td>American Samoa</td>\n      <td>East Asia &amp; Pacific</td>\n      <td>11834.745230</td>\n      <td>55599</td>\n      <td>165114.116337</td>\n      <td>200.0</td>\n    </tr>\n    <tr>\n      <th>4</th>\n      <td>Andorra</td>\n      <td>Europe &amp; Central Asia</td>\n      <td>36988.622030</td>\n      <td>77281</td>\n      <td>462.042000</td>\n      <td>470.0</td>\n    </tr>\n  </tbody>\n</table>\n</div>"
     },
     "execution_count": 12,
     "metadata": {},
     "output_type": "execute_result"
    }
   ],
   "source": [
    "df['Population'] = df['Population'].astype('int')\n",
    "df.head()"
   ],
   "metadata": {
    "collapsed": false,
    "ExecuteTime": {
     "end_time": "2023-09-05T19:44:39.852075Z",
     "start_time": "2023-09-05T19:44:39.750765Z"
    }
   }
  },
  {
   "cell_type": "markdown",
   "source": [
    "## 3. Box plots and histograms"
   ],
   "metadata": {
    "collapsed": false
   }
  },
  {
   "cell_type": "markdown",
   "source": [
    "### 3.1 Box plot for GDP per capita"
   ],
   "metadata": {
    "collapsed": false
   }
  },
  {
   "cell_type": "code",
   "execution_count": 13,
   "metadata": {
    "ExecuteTime": {
     "end_time": "2023-09-05T19:44:39.968474Z",
     "start_time": "2023-09-05T19:44:39.752996Z"
    }
   },
   "outputs": [
    {
     "data": {
      "text/plain": "<Figure size 1000x1000 with 1 Axes>",
      "image/png": "[encoded data removed]"
     },
     "metadata": {},
     "output_type": "display_data"
    }
   ],
   "source": [
    "df.boxplot(column='GDP per capita', figsize=(10, 10));"
   ]
  },
  {
   "cell_type": "markdown",
   "source": [
    "### 3.2 Histogram for GDP per capita"
   ],
   "metadata": {
    "collapsed": false
   }
  },
  {
   "cell_type": "code",
   "execution_count": 14,
   "outputs": [
    {
     "data": {
      "text/plain": "<Figure size 1000x1000 with 1 Axes>",
      "image/png": "[encoded data removed]"
     },
     "metadata": {},
     "output_type": "display_data"
    }
   ],
   "source": [
    "df.hist(column='GDP per capita', figsize=(10, 10), bins=9);"
   ],
   "metadata": {
    "collapsed": false,
    "ExecuteTime": {
     "end_time": "2023-09-05T19:44:40.086939Z",
     "start_time": "2023-09-05T19:44:39.843228Z"
    }
   }
  },
  {
   "cell_type": "code",
   "execution_count": 15,
   "outputs": [],
   "source": [
    "df.to_csv('../data/data_2_cleaned.csv', index=False)"
   ],
   "metadata": {
    "collapsed": false,
    "ExecuteTime": {
     "end_time": "2023-09-05T19:44:40.087212Z",
     "start_time": "2023-09-05T19:44:39.921244Z"
    }
   }
  },
  {
   "cell_type": "markdown",
   "source": [
    "## 4. Addition of the column \"Population Density\""
   ],
   "metadata": {
    "collapsed": false
   }
  },
  {
   "cell_type": "code",
   "execution_count": 16,
   "metadata": {
    "ExecuteTime": {
     "end_time": "2023-09-05T19:44:40.087624Z",
     "start_time": "2023-09-05T19:44:39.929763Z"
    }
   },
   "outputs": [
    {
     "data": {
      "text/plain": "     Country Name                      Region  GDP per capita  Population  \\\n0     Afghanistan                  South Asia      561.778746    34656032   \n1         Albania       Europe & Central Asia     4124.982390     2876101   \n2         Algeria  Middle East & North Africa     3916.881571    40606052   \n3  American Samoa         East Asia & Pacific    11834.745230       55599   \n4         Andorra       Europe & Central Asia    36988.622030       77281   \n\n    CO2 emission       Area  Population Density  \n0    9809.225000   652860.0           53.083405  \n1    5716.853000    28750.0          100.038296  \n2  145400.217000  2381740.0           17.048902  \n3  165114.116337      200.0          277.995000  \n4     462.042000      470.0          164.427660  ",
      "text/html": "<div>\n<style scoped>\n    .dataframe tbody tr th:only-of-type {\n        vertical-align: middle;\n    }\n\n    .dataframe tbody tr th {\n        vertical-align: top;\n    }\n\n    .dataframe thead th {\n        text-align: right;\n    }\n</style>\n<table border=\"1\" class=\"dataframe\">\n  <thead>\n    <tr style=\"text-align: right;\">\n      <th></th>\n      <th>Country Name</th>\n      <th>Region</th>\n      <th>GDP per capita</th>\n      <th>Population</th>\n      <th>CO2 emission</th>\n      <th>Area</th>\n      <th>Population Density</th>\n    </tr>\n  </thead>\n  <tbody>\n    <tr>\n      <th>0</th>\n      <td>Afghanistan</td>\n      <td>South Asia</td>\n      <td>561.778746</td>\n      <td>34656032</td>\n      <td>9809.225000</td>\n      <td>652860.0</td>\n      <td>53.083405</td>\n    </tr>\n    <tr>\n      <th>1</th>\n      <td>Albania</td>\n      <td>Europe &amp; Central Asia</td>\n      <td>4124.982390</td>\n      <td>2876101</td>\n      <td>5716.853000</td>\n      <td>28750.0</td>\n      <td>100.038296</td>\n    </tr>\n    <tr>\n      <th>2</th>\n      <td>Algeria</td>\n      <td>Middle East &amp; North Africa</td>\n      <td>3916.881571</td>\n      <td>40606052</td>\n      <td>145400.217000</td>\n      <td>2381740.0</td>\n      <td>17.048902</td>\n    </tr>\n    <tr>\n      <th>3</th>\n      <td>American Samoa</td>\n      <td>East Asia &amp; Pacific</td>\n      <td>11834.745230</td>\n      <td>55599</td>\n      <td>165114.116337</td>\n      <td>200.0</td>\n      <td>277.995000</td>\n    </tr>\n    <tr>\n      <th>4</th>\n      <td>Andorra</td>\n      <td>Europe &amp; Central Asia</td>\n      <td>36988.622030</td>\n      <td>77281</td>\n      <td>462.042000</td>\n      <td>470.0</td>\n      <td>164.427660</td>\n    </tr>\n  </tbody>\n</table>\n</div>"
     },
     "execution_count": 16,
     "metadata": {},
     "output_type": "execute_result"
    }
   ],
   "source": [
    "df['Population Density'] = df['Population'] / df['Area']\n",
    "df.head()"
   ]
  },
  {
   "cell_type": "markdown",
   "source": [
    "# Additional task"
   ],
   "metadata": {
    "collapsed": false
   }
  },
  {
   "cell_type": "markdown",
   "source": [
    "## 1. The country with the highest GDP per capita and the country with the smallest area"
   ],
   "metadata": {
    "collapsed": false
   }
  },
  {
   "cell_type": "code",
   "execution_count": 17,
   "metadata": {
    "ExecuteTime": {
     "end_time": "2023-09-05T19:44:40.087828Z",
     "start_time": "2023-09-05T19:44:39.935610Z"
    }
   },
   "outputs": [
    {
     "data": {
      "text/plain": "              GDP per capita\nCountry Name                \nLuxembourg       100738.6842",
      "text/html": "<div>\n<style scoped>\n    .dataframe tbody tr th:only-of-type {\n        vertical-align: middle;\n    }\n\n    .dataframe tbody tr th {\n        vertical-align: top;\n    }\n\n    .dataframe thead th {\n        text-align: right;\n    }\n</style>\n<table border=\"1\" class=\"dataframe\">\n  <thead>\n    <tr style=\"text-align: right;\">\n      <th></th>\n      <th>GDP per capita</th>\n    </tr>\n    <tr>\n      <th>Country Name</th>\n      <th></th>\n    </tr>\n  </thead>\n  <tbody>\n    <tr>\n      <th>Luxembourg</th>\n      <td>100738.6842</td>\n    </tr>\n  </tbody>\n</table>\n</div>"
     },
     "execution_count": 17,
     "metadata": {},
     "output_type": "execute_result"
    }
   ],
   "source": [
    "df[['Country Name', 'GDP per capita']][df['GDP per capita'] == df['GDP per capita'].max()].set_index('Country Name')"
   ]
  },
  {
   "cell_type": "code",
   "execution_count": 18,
   "metadata": {
    "ExecuteTime": {
     "end_time": "2023-09-05T19:44:40.097985Z",
     "start_time": "2023-09-05T19:44:39.940282Z"
    }
   },
   "outputs": [
    {
     "data": {
      "text/plain": "              Area\nCountry Name      \nMonaco         2.0",
      "text/html": "<div>\n<style scoped>\n    .dataframe tbody tr th:only-of-type {\n        vertical-align: middle;\n    }\n\n    .dataframe tbody tr th {\n        vertical-align: top;\n    }\n\n    .dataframe thead th {\n        text-align: right;\n    }\n</style>\n<table border=\"1\" class=\"dataframe\">\n  <thead>\n    <tr style=\"text-align: right;\">\n      <th></th>\n      <th>Area</th>\n    </tr>\n    <tr>\n      <th>Country Name</th>\n      <th></th>\n    </tr>\n  </thead>\n  <tbody>\n    <tr>\n      <th>Monaco</th>\n      <td>2.0</td>\n    </tr>\n  </tbody>\n</table>\n</div>"
     },
     "execution_count": 18,
     "metadata": {},
     "output_type": "execute_result"
    }
   ],
   "source": [
    "df[['Country Name', 'Area']][df['Area'] == df['Area'].min()].set_index('Country Name')"
   ]
  },
  {
   "cell_type": "markdown",
   "source": [
    "## 2. The region with the biggest average area of the country"
   ],
   "metadata": {
    "collapsed": false
   }
  },
  {
   "cell_type": "code",
   "execution_count": 19,
   "metadata": {
    "ExecuteTime": {
     "end_time": "2023-09-05T19:44:40.099632Z",
     "start_time": "2023-09-05T19:44:39.944310Z"
    }
   },
   "outputs": [
    {
     "data": {
      "text/plain": "Region\nNorth America    6605410.0\nName: Area, dtype: float64"
     },
     "execution_count": 19,
     "metadata": {},
     "output_type": "execute_result"
    }
   ],
   "source": [
    "areas_df = df.groupby(by='Region')['Area'].mean()\n",
    "areas_df[areas_df == areas_df.max()]"
   ]
  },
  {
   "cell_type": "markdown",
   "source": [
    "## 3. The country with the highest population density in the world and in Europe and Central Asia"
   ],
   "metadata": {
    "collapsed": false
   }
  },
  {
   "cell_type": "code",
   "execution_count": 20,
   "metadata": {
    "ExecuteTime": {
     "end_time": "2023-09-05T19:44:40.099902Z",
     "start_time": "2023-09-05T19:44:39.949073Z"
    }
   },
   "outputs": [
    {
     "data": {
      "text/plain": "              Population Density\nCountry Name                    \nMacao SAR           20203.531353",
      "text/html": "<div>\n<style scoped>\n    .dataframe tbody tr th:only-of-type {\n        vertical-align: middle;\n    }\n\n    .dataframe tbody tr th {\n        vertical-align: top;\n    }\n\n    .dataframe thead th {\n        text-align: right;\n    }\n</style>\n<table border=\"1\" class=\"dataframe\">\n  <thead>\n    <tr style=\"text-align: right;\">\n      <th></th>\n      <th>Population Density</th>\n    </tr>\n    <tr>\n      <th>Country Name</th>\n      <th></th>\n    </tr>\n  </thead>\n  <tbody>\n    <tr>\n      <th>Macao SAR</th>\n      <td>20203.531353</td>\n    </tr>\n  </tbody>\n</table>\n</div>"
     },
     "execution_count": 20,
     "metadata": {},
     "output_type": "execute_result"
    }
   ],
   "source": [
    "df[['Country Name', 'Population Density']][df['Population Density'] == df['Population Density'].max()].set_index(\n",
    "    'Country Name')"
   ]
  },
  {
   "cell_type": "code",
   "execution_count": 21,
   "metadata": {
    "ExecuteTime": {
     "end_time": "2023-09-05T19:44:40.100118Z",
     "start_time": "2023-09-05T19:44:39.954805Z"
    }
   },
   "outputs": [
    {
     "data": {
      "text/plain": "              Population Density\nCountry Name                    \nMonaco                   19249.5",
      "text/html": "<div>\n<style scoped>\n    .dataframe tbody tr th:only-of-type {\n        vertical-align: middle;\n    }\n\n    .dataframe tbody tr th {\n        vertical-align: top;\n    }\n\n    .dataframe thead th {\n        text-align: right;\n    }\n</style>\n<table border=\"1\" class=\"dataframe\">\n  <thead>\n    <tr style=\"text-align: right;\">\n      <th></th>\n      <th>Population Density</th>\n    </tr>\n    <tr>\n      <th>Country Name</th>\n      <th></th>\n    </tr>\n  </thead>\n  <tbody>\n    <tr>\n      <th>Monaco</th>\n      <td>19249.5</td>\n    </tr>\n  </tbody>\n</table>\n</div>"
     },
     "execution_count": 21,
     "metadata": {},
     "output_type": "execute_result"
    }
   ],
   "source": [
    "europe_asia_df = df[df['Region'] == 'Europe & Central Asia']\n",
    "europe_asia_df[europe_asia_df['Population Density'] == europe_asia_df['Population Density'].max()][\n",
    "    ['Country Name', 'Population Density']].set_index('Country Name')"
   ]
  },
  {
   "cell_type": "markdown",
   "source": [
    "## 4. Check if there is a region with the same GDP mean and GDP median"
   ],
   "metadata": {
    "collapsed": false
   }
  },
  {
   "cell_type": "code",
   "execution_count": 22,
   "metadata": {
    "ExecuteTime": {
     "end_time": "2023-09-05T19:44:40.100309Z",
     "start_time": "2023-09-05T19:44:39.958075Z"
    }
   },
   "outputs": [
    {
     "data": {
      "text/plain": "Empty DataFrame\nColumns: [GDP mean, GDP median]\nIndex: []",
      "text/html": "<div>\n<style scoped>\n    .dataframe tbody tr th:only-of-type {\n        vertical-align: middle;\n    }\n\n    .dataframe tbody tr th {\n        vertical-align: top;\n    }\n\n    .dataframe thead th {\n        text-align: right;\n    }\n</style>\n<table border=\"1\" class=\"dataframe\">\n  <thead>\n    <tr style=\"text-align: right;\">\n      <th></th>\n      <th>GDP mean</th>\n      <th>GDP median</th>\n    </tr>\n    <tr>\n      <th>Region</th>\n      <th></th>\n      <th></th>\n    </tr>\n  </thead>\n  <tbody>\n  </tbody>\n</table>\n</div>"
     },
     "execution_count": 22,
     "metadata": {},
     "output_type": "execute_result"
    }
   ],
   "source": [
    "mean_median_df = df.groupby('Region').agg({'GDP per capita': ['mean', 'median']})\n",
    "mean_median_df.columns = ['GDP mean', 'GDP median']\n",
    "mean_median_df[mean_median_df['GDP mean'] == mean_median_df['GDP median']]"
   ]
  },
  {
   "cell_type": "code",
   "execution_count": 23,
   "outputs": [
    {
     "data": {
      "text/plain": "                               GDP mean    GDP median  Difference\nRegion                                                           \nLatin America & Caribbean  10485.343136  10833.201075  347.857939",
      "text/html": "<div>\n<style scoped>\n    .dataframe tbody tr th:only-of-type {\n        vertical-align: middle;\n    }\n\n    .dataframe tbody tr th {\n        vertical-align: top;\n    }\n\n    .dataframe thead th {\n        text-align: right;\n    }\n</style>\n<table border=\"1\" class=\"dataframe\">\n  <thead>\n    <tr style=\"text-align: right;\">\n      <th></th>\n      <th>GDP mean</th>\n      <th>GDP median</th>\n      <th>Difference</th>\n    </tr>\n    <tr>\n      <th>Region</th>\n      <th></th>\n      <th></th>\n      <th></th>\n    </tr>\n  </thead>\n  <tbody>\n    <tr>\n      <th>Latin America &amp; Caribbean</th>\n      <td>10485.343136</td>\n      <td>10833.201075</td>\n      <td>347.857939</td>\n    </tr>\n  </tbody>\n</table>\n</div>"
     },
     "execution_count": 23,
     "metadata": {},
     "output_type": "execute_result"
    }
   ],
   "source": [
    "mean_median_df['Difference'] = abs(mean_median_df['GDP median'] - mean_median_df['GDP mean'])\n",
    "mean_median_df[mean_median_df['Difference'] == mean_median_df['Difference'].min()]"
   ],
   "metadata": {
    "collapsed": false,
    "ExecuteTime": {
     "end_time": "2023-09-05T19:44:40.100534Z",
     "start_time": "2023-09-05T19:44:39.963495Z"
    }
   }
  },
  {
   "cell_type": "markdown",
   "source": [
    "## 5. Top-5 countries by GDP and CO2 emission per capita and bottom 5 counties respectively"
   ],
   "metadata": {
    "collapsed": false
   }
  },
  {
   "cell_type": "code",
   "execution_count": 24,
   "metadata": {
    "ExecuteTime": {
     "end_time": "2023-09-05T19:44:40.101806Z",
     "start_time": "2023-09-05T19:44:39.969386Z"
    }
   },
   "outputs": [
    {
     "data": {
      "text/plain": "Country Name\nUnited States     1.862448e+13\nChina             1.119915e+13\nJapan             4.940159e+12\nGermany           3.485379e+12\nUnited Kingdom    2.649581e+12\nName: GDP, dtype: float64"
     },
     "execution_count": 24,
     "metadata": {},
     "output_type": "execute_result"
    }
   ],
   "source": [
    "top_gdp_df = df[['Country Name']].assign(\n",
    "    **{'GDP': df['GDP per capita'] * df['Population']})\n",
    "top_gdp_df = top_gdp_df.sort_values(by='GDP', ascending=False).set_index('Country Name')['GDP']\n",
    "top_gdp_df.head()"
   ]
  },
  {
   "cell_type": "code",
   "execution_count": 25,
   "metadata": {
    "ExecuteTime": {
     "end_time": "2023-09-05T19:44:40.102385Z",
     "start_time": "2023-09-05T19:44:39.973983Z"
    }
   },
   "outputs": [
    {
     "data": {
      "text/plain": "Country Name\nPalau               3.102483e+08\nMarshall Islands    1.944979e+08\nKiribati            1.815515e+08\nNauru               1.020601e+08\nTuvalu              3.421888e+07\nName: GDP, dtype: float64"
     },
     "execution_count": 25,
     "metadata": {},
     "output_type": "execute_result"
    }
   ],
   "source": [
    "top_gdp_df.tail()"
   ]
  },
  {
   "cell_type": "code",
   "execution_count": 26,
   "metadata": {
    "ExecuteTime": {
     "end_time": "2023-09-05T19:44:40.112196Z",
     "start_time": "2023-09-05T19:44:39.977869Z"
    }
   },
   "outputs": [
    {
     "data": {
      "text/plain": "                          CO2 per capita\nCountry Name                            \nSt. Martin                      5.168053\nSan Marino                      4.972867\nMonaco                          4.288790\nNorthern Mariana Islands        3.000820\nAmerican Samoa                  2.969732",
      "text/html": "<div>\n<style scoped>\n    .dataframe tbody tr th:only-of-type {\n        vertical-align: middle;\n    }\n\n    .dataframe tbody tr th {\n        vertical-align: top;\n    }\n\n    .dataframe thead th {\n        text-align: right;\n    }\n</style>\n<table border=\"1\" class=\"dataframe\">\n  <thead>\n    <tr style=\"text-align: right;\">\n      <th></th>\n      <th>CO2 per capita</th>\n    </tr>\n    <tr>\n      <th>Country Name</th>\n      <th></th>\n    </tr>\n  </thead>\n  <tbody>\n    <tr>\n      <th>St. Martin</th>\n      <td>5.168053</td>\n    </tr>\n    <tr>\n      <th>San Marino</th>\n      <td>4.972867</td>\n    </tr>\n    <tr>\n      <th>Monaco</th>\n      <td>4.288790</td>\n    </tr>\n    <tr>\n      <th>Northern Mariana Islands</th>\n      <td>3.000820</td>\n    </tr>\n    <tr>\n      <th>American Samoa</th>\n      <td>2.969732</td>\n    </tr>\n  </tbody>\n</table>\n</div>"
     },
     "execution_count": 26,
     "metadata": {},
     "output_type": "execute_result"
    }
   ],
   "source": [
    "top_co2_df = df[['Country Name']].assign(\n",
    "    **{'CO2 per capita': df['CO2 emission'] / df['Population']}\n",
    ")\n",
    "top_co2_df = top_co2_df.sort_values(by='CO2 per capita', ascending=False).set_index('Country Name')\n",
    "top_co2_df.head()"
   ]
  },
  {
   "cell_type": "code",
   "execution_count": 27,
   "metadata": {
    "ExecuteTime": {
     "end_time": "2023-09-05T19:44:40.119619Z",
     "start_time": "2023-09-05T19:44:39.983612Z"
    }
   },
   "outputs": [
    {
     "data": {
      "text/plain": "                                  CO2 per capita\nCountry Name                                    \nDemocratic Republic of the Congo        0.000059\nChad                                    0.000050\nSomalia                                 0.000043\nBurundi                                 0.000042\nEritrea                                 0.000020",
      "text/html": "<div>\n<style scoped>\n    .dataframe tbody tr th:only-of-type {\n        vertical-align: middle;\n    }\n\n    .dataframe tbody tr th {\n        vertical-align: top;\n    }\n\n    .dataframe thead th {\n        text-align: right;\n    }\n</style>\n<table border=\"1\" class=\"dataframe\">\n  <thead>\n    <tr style=\"text-align: right;\">\n      <th></th>\n      <th>CO2 per capita</th>\n    </tr>\n    <tr>\n      <th>Country Name</th>\n      <th></th>\n    </tr>\n  </thead>\n  <tbody>\n    <tr>\n      <th>Democratic Republic of the Congo</th>\n      <td>0.000059</td>\n    </tr>\n    <tr>\n      <th>Chad</th>\n      <td>0.000050</td>\n    </tr>\n    <tr>\n      <th>Somalia</th>\n      <td>0.000043</td>\n    </tr>\n    <tr>\n      <th>Burundi</th>\n      <td>0.000042</td>\n    </tr>\n    <tr>\n      <th>Eritrea</th>\n      <td>0.000020</td>\n    </tr>\n  </tbody>\n</table>\n</div>"
     },
     "execution_count": 27,
     "metadata": {},
     "output_type": "execute_result"
    }
   ],
   "source": [
    "top_co2_df.tail()"
   ]
  }
 ],
 "metadata": {
  "kernelspec": {
   "display_name": "Python 3 (ipykernel)",
   "language": "python",
   "name": "python3"
  },
  "language_info": {
   "codemirror_mode": {
    "name": "ipython",
    "version": 3
   },
   "file_extension": ".py",
   "mimetype": "text/x-python",
   "name": "python",
   "nbconvert_exporter": "python",
   "pygments_lexer": "ipython3",
   "version": "3.10.6"
  }
 },
 "nbformat": 4,
 "nbformat_minor": 1
}
